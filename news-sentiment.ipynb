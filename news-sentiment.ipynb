{
 "cells": [
  {
   "cell_type": "code",
   "execution_count": 1,
   "metadata": {},
   "outputs": [],
   "source": [
    "# Import libraries\n",
    "\n",
    "import requests\n",
    "import json\n",
    "import os \n",
    "from dotenv import load_dotenv\n",
    "from transformers import AutoTokenizer, AutoModelForSequenceClassification\n",
    "import torch"
   ]
  },
  {
   "cell_type": "code",
   "execution_count": 2,
   "metadata": {},
   "outputs": [],
   "source": [
    "# Collect and parse data from the NYT API\n",
    "\n",
    "load_dotenv()\n",
    "\n",
    "api_key = os.getenv(\"NYT_API_KEY\")\n",
    "section = \"home\"  # You can change this to other sections like \"arts\", \"business\", etc.\n",
    "\n",
    "base_url = \"https://api.nytimes.com/svc/topstories/v2\"\n",
    "endpoint = f\"/{section}.json\"\n",
    "api_url = base_url + endpoint\n",
    "\n",
    "params = {\"api-key\": api_key}\n",
    "\n",
    "try:\n",
    "    response = requests.get(api_url, params=params)\n",
    "    response.raise_for_status()\n",
    "\n",
    "    data = response.json()\n",
    "\n",
    "    if data and data.get('status') == 'OK' and data.get('results'):\n",
    "        article_texts = []\n",
    "        articles = data['results']\n",
    "        for article in articles:\n",
    "            title = article.get('title')\n",
    "            abstract = article.get('abstract')\n",
    "            if title and abstract:\n",
    "                article_texts.append(f\"{article['title']}: {article['abstract']}\")\n",
    "        \n",
    "    else:\n",
    "        print(\"Failed to retrieve top stories data.\")\n",
    "        if data.get('fault'):\n",
    "            print(f\"Error Message: {data['fault']['faultstring']}\")\n",
    "\n",
    "except requests.exceptions.RequestException as e:\n",
    "    print(f\"Error fetching the API: {e}\")\n",
    "except json.JSONDecodeError:\n",
    "    print(\"Error decoding the JSON response.\")\n",
    "except Exception as e:\n",
    "    print(f\"An unexpected error occurred: {e}\")"
   ]
  },
  {
   "cell_type": "code",
   "execution_count": 3,
   "metadata": {},
   "outputs": [
    {
     "name": "stderr",
     "output_type": "stream",
     "text": [
      "c:\\Users\\kgbad\\anaconda3\\Lib\\site-packages\\huggingface_hub\\file_download.py:1132: FutureWarning: `resume_download` is deprecated and will be removed in version 1.0.0. Downloads always resume when possible. If you want to force a new download, use `force_download=True`.\n",
      "  warnings.warn(\n"
     ]
    },
    {
     "name": "stdout",
     "output_type": "stream",
     "text": [
      "Text: A Lot About Trump Doesn’t Add Up: A very petty man in a very powerful job.\n",
      "Sentiment: Positive\n",
      "\n"
     ]
    }
   ],
   "source": [
    "# Call model and predict sentiment\n",
    "\n",
    "model_name = \"tabularisai/multilingual-sentiment-analysis\"\n",
    "tokenizer = AutoTokenizer.from_pretrained(model_name)\n",
    "model = AutoModelForSequenceClassification.from_pretrained(model_name)\n",
    "\n",
    "def predict_sentiment(texts):\n",
    "    inputs = tokenizer(texts, return_tensors=\"pt\", truncation=True, padding=True, max_length=512)\n",
    "    with torch.no_grad():\n",
    "        outputs = model(**inputs)\n",
    "    probabilities = torch.nn.functional.softmax(outputs.logits, dim=-1)\n",
    "    sentiment_map = {0: \"Very Negative\", 1: \"Negative\", 2: \"Neutral\", 3: \"Positive\", 4: \"Very Positive\"}\n",
    "    return [sentiment_map[p] for p in torch.argmax(probabilities, dim=-1).tolist()]\n",
    "\n",
    "for text, sentiment in zip(article_texts, predict_sentiment(article_texts)):\n",
    "    if sentiment == \"Positive\":\n",
    "        print(f\"Text: {text}\\nSentiment: {sentiment}\\n\")"
   ]
  }
 ],
 "metadata": {
  "kernelspec": {
   "display_name": "base",
   "language": "python",
   "name": "python3"
  },
  "language_info": {
   "codemirror_mode": {
    "name": "ipython",
    "version": 3
   },
   "file_extension": ".py",
   "mimetype": "text/x-python",
   "name": "python",
   "nbconvert_exporter": "python",
   "pygments_lexer": "ipython3",
   "version": "3.11.4"
  }
 },
 "nbformat": 4,
 "nbformat_minor": 2
}
