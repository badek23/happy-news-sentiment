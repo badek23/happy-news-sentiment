{
 "cells": [
  {
   "cell_type": "code",
   "execution_count": 1,
   "metadata": {},
   "outputs": [],
   "source": [
    "# Import libraries\n",
    "\n",
    "import requests\n",
    "import json\n",
    "import os \n",
    "from dotenv import load_dotenv\n",
    "from transformers import AutoTokenizer, AutoModelForSequenceClassification\n",
    "import torch"
   ]
  },
  {
   "cell_type": "code",
   "execution_count": 13,
   "metadata": {},
   "outputs": [],
   "source": [
    "# Collect and parse data from the NYT API\n",
    "\n",
    "load_dotenv()\n",
    "\n",
    "api_key = os.getenv(\"NYT_API_KEY\")\n",
    "section = \"world\" \n",
    "\n",
    "base_url = \"https://api.nytimes.com/svc/topstories/v2\"\n",
    "endpoint = f\"/{section}.json\"\n",
    "api_url = base_url + endpoint\n",
    "\n",
    "params = {\"api-key\": api_key}\n",
    "\n",
    "try:\n",
    "    response = requests.get(api_url, params=params)\n",
    "    response.raise_for_status()\n",
    "\n",
    "    data = response.json()\n",
    "\n",
    "    if data and data.get('status') == 'OK' and data.get('results'):\n",
    "        article_texts = []\n",
    "        articles = data['results']\n",
    "        for article in articles:\n",
    "            title = article.get('title')\n",
    "            abstract = article.get('abstract')\n",
    "            if title and abstract:\n",
    "                article_texts.append(f\"{article['title']}: {article['abstract']}\")\n",
    "        \n",
    "    else:\n",
    "        print(\"Failed to retrieve top stories data.\")\n",
    "        if data.get('fault'):\n",
    "            print(f\"Error Message: {data['fault']['faultstring']}\")\n",
    "\n",
    "except requests.exceptions.RequestException as e:\n",
    "    print(f\"Error fetching the API: {e}\")\n",
    "except json.JSONDecodeError:\n",
    "    print(\"Error decoding the JSON response.\")\n",
    "except Exception as e:\n",
    "    print(f\"An unexpected error occurred: {e}\")"
   ]
  },
  {
   "cell_type": "code",
   "execution_count": 15,
   "metadata": {},
   "outputs": [
    {
     "name": "stderr",
     "output_type": "stream",
     "text": [
      "c:\\Users\\kgbad\\anaconda3\\Lib\\site-packages\\huggingface_hub\\file_download.py:1132: FutureWarning: `resume_download` is deprecated and will be removed in version 1.0.0. Downloads always resume when possible. If you want to force a new download, use `force_download=True`.\n",
      "  warnings.warn(\n"
     ]
    },
    {
     "name": "stdout",
     "output_type": "stream",
     "text": [
      "Text: Trump Showed His Pain Point in His Standoff With China: Xi Jinping, who rules with absolute authority, has shown he is willing to let the Chinese people endure hardship. President Trump revealed he has limits.\n",
      "Sentiment: Very Positive\n",
      "\n",
      "Text: World’s Friendliest Superpower? As Trump Upends Globe, Europe Positions Itself.: Ursula von der Leyen is trying to ensure that if the international trading system is remade, the E.U. is at the center of what comes next.\n",
      "Sentiment: Very Positive\n",
      "\n",
      "Text: African Breakaway State Offers U.S. a Chance to Stick It to China: After years of building relationships with congressional Republicans and conservative think tanks, officials in Somaliland believe President Trump will grant their ultimate wish: statehood.\n",
      "Sentiment: Very Positive\n",
      "\n",
      "Text: Pope Makes a Surprise Visit — and Style Statement — in St. Peter’s: Appearing publicly in street clothes for the first time as pontiff, Pope Francis went into St. Peter’s Basilica to pray and greet the faithful.\n",
      "Sentiment: Positive\n",
      "\n",
      "Text: Prince Harry Meets War Victims in Surprise Visit to Ukraine: The prince toured a rehabilitation facility in Lviv for soldiers and civilians wounded in the war. The trip came as his father, King Charles, was in Italy.\n",
      "Sentiment: Positive\n",
      "\n"
     ]
    }
   ],
   "source": [
    "# Call model and predict sentiment\n",
    "\n",
    "model_name = \"tabularisai/multilingual-sentiment-analysis\"\n",
    "tokenizer = AutoTokenizer.from_pretrained(model_name)\n",
    "model = AutoModelForSequenceClassification.from_pretrained(model_name)\n",
    "\n",
    "def predict_sentiment(texts):\n",
    "    inputs = tokenizer(texts, return_tensors=\"pt\", truncation=True, padding=True, max_length=512)\n",
    "    with torch.no_grad():\n",
    "        outputs = model(**inputs)\n",
    "    probabilities = torch.nn.functional.softmax(outputs.logits, dim=-1)\n",
    "    sentiment_map = {0: \"Very Negative\", 1: \"Negative\", 2: \"Neutral\", 3: \"Positive\", 4: \"Very Positive\"}\n",
    "    return [sentiment_map[p] for p in torch.argmax(probabilities, dim=-1).tolist()]\n",
    "\n",
    "for text, sentiment in zip(article_texts, predict_sentiment(article_texts)):\n",
    "    if sentiment in (\"Positive\",\"Very Positive\"):\n",
    "        print(f\"Text: {text}\\nSentiment: {sentiment}\\n\")"
   ]
  },
  {
   "cell_type": "markdown",
   "metadata": {},
   "source": [
    "In progress below: prepping data to try transfer learning on the pre-trained model used above"
   ]
  },
  {
   "cell_type": "code",
   "execution_count": 52,
   "metadata": {},
   "outputs": [],
   "source": [
    "import pandas as pd \n",
    "data = pd.read_csv(\"data/news_sentiment_analysis.csv\")\n",
    "# Data from: https://www.kaggle.com/datasets/clovisdalmolinvieira/news-sentiment-analysis/data"
   ]
  },
  {
   "cell_type": "code",
   "execution_count": 53,
   "metadata": {},
   "outputs": [],
   "source": [
    "data = data[[\"Title\",\"Description\",\"Sentiment\"]]"
   ]
  },
  {
   "cell_type": "code",
   "execution_count": null,
   "metadata": {},
   "outputs": [
    {
     "data": {
      "text/html": [
       "<div>\n",
       "<style scoped>\n",
       "    .dataframe tbody tr th:only-of-type {\n",
       "        vertical-align: middle;\n",
       "    }\n",
       "\n",
       "    .dataframe tbody tr th {\n",
       "        vertical-align: top;\n",
       "    }\n",
       "\n",
       "    .dataframe thead th {\n",
       "        text-align: right;\n",
       "    }\n",
       "</style>\n",
       "<table border=\"1\" class=\"dataframe\">\n",
       "  <thead>\n",
       "    <tr style=\"text-align: right;\">\n",
       "      <th></th>\n",
       "      <th>Title</th>\n",
       "      <th>Description</th>\n",
       "      <th>Sentiment</th>\n",
       "    </tr>\n",
       "  </thead>\n",
       "  <tbody>\n",
       "    <tr>\n",
       "      <th>0</th>\n",
       "      <td>Pine View High teacher wins Best in State awar...</td>\n",
       "      <td>ST. GEORGE — Kaitlyn Larson, a first-year teac...</td>\n",
       "      <td>positive</td>\n",
       "    </tr>\n",
       "    <tr>\n",
       "      <th>1</th>\n",
       "      <td>Businesses Face Financial Strain Amid Liquidit...</td>\n",
       "      <td>Harare, Zimbabwe – Local businesses are grappl...</td>\n",
       "      <td>neutral</td>\n",
       "    </tr>\n",
       "    <tr>\n",
       "      <th>2</th>\n",
       "      <td>Musk donates to super pac working to elect Tru...</td>\n",
       "      <td>(marketscreener.com) Billionaire Elon Musk has...</td>\n",
       "      <td>positive</td>\n",
       "    </tr>\n",
       "    <tr>\n",
       "      <th>3</th>\n",
       "      <td>US FTC issues warning to franchisors over unfa...</td>\n",
       "      <td>(marketscreener.com) A U.S. trade regulator on...</td>\n",
       "      <td>negative</td>\n",
       "    </tr>\n",
       "    <tr>\n",
       "      <th>4</th>\n",
       "      <td>Rooftop solar's dark side</td>\n",
       "      <td>4.5 million households in the U.S. have solar ...</td>\n",
       "      <td>positive</td>\n",
       "    </tr>\n",
       "  </tbody>\n",
       "</table>\n",
       "</div>"
      ],
      "text/plain": [
       "                                               Title  \\\n",
       "0  Pine View High teacher wins Best in State awar...   \n",
       "1  Businesses Face Financial Strain Amid Liquidit...   \n",
       "2  Musk donates to super pac working to elect Tru...   \n",
       "3  US FTC issues warning to franchisors over unfa...   \n",
       "4                          Rooftop solar's dark side   \n",
       "\n",
       "                                         Description Sentiment  \n",
       "0  ST. GEORGE — Kaitlyn Larson, a first-year teac...  positive  \n",
       "1  Harare, Zimbabwe – Local businesses are grappl...   neutral  \n",
       "2  (marketscreener.com) Billionaire Elon Musk has...  positive  \n",
       "3  (marketscreener.com) A U.S. trade regulator on...  negative  \n",
       "4  4.5 million households in the U.S. have solar ...  positive  "
      ]
     },
     "execution_count": 54,
     "metadata": {},
     "output_type": "execute_result"
    }
   ],
   "source": [
    "data.head()"
   ]
  },
  {
   "cell_type": "code",
   "execution_count": null,
   "metadata": {},
   "outputs": [
    {
     "name": "stdout",
     "output_type": "stream",
     "text": [
      "\n",
      "DataFrame after mapping:\n"
     ]
    },
    {
     "data": {
      "text/html": [
       "<div>\n",
       "<style scoped>\n",
       "    .dataframe tbody tr th:only-of-type {\n",
       "        vertical-align: middle;\n",
       "    }\n",
       "\n",
       "    .dataframe tbody tr th {\n",
       "        vertical-align: top;\n",
       "    }\n",
       "\n",
       "    .dataframe thead th {\n",
       "        text-align: right;\n",
       "    }\n",
       "</style>\n",
       "<table border=\"1\" class=\"dataframe\">\n",
       "  <thead>\n",
       "    <tr style=\"text-align: right;\">\n",
       "      <th></th>\n",
       "      <th>Title</th>\n",
       "      <th>Description</th>\n",
       "      <th>Sentiment</th>\n",
       "      <th>Sentiment_num</th>\n",
       "    </tr>\n",
       "  </thead>\n",
       "  <tbody>\n",
       "    <tr>\n",
       "      <th>0</th>\n",
       "      <td>Pine View High teacher wins Best in State awar...</td>\n",
       "      <td>ST. GEORGE — Kaitlyn Larson, a first-year teac...</td>\n",
       "      <td>positive</td>\n",
       "      <td>2</td>\n",
       "    </tr>\n",
       "    <tr>\n",
       "      <th>1</th>\n",
       "      <td>Businesses Face Financial Strain Amid Liquidit...</td>\n",
       "      <td>Harare, Zimbabwe – Local businesses are grappl...</td>\n",
       "      <td>neutral</td>\n",
       "      <td>1</td>\n",
       "    </tr>\n",
       "    <tr>\n",
       "      <th>2</th>\n",
       "      <td>Musk donates to super pac working to elect Tru...</td>\n",
       "      <td>(marketscreener.com) Billionaire Elon Musk has...</td>\n",
       "      <td>positive</td>\n",
       "      <td>2</td>\n",
       "    </tr>\n",
       "    <tr>\n",
       "      <th>3</th>\n",
       "      <td>US FTC issues warning to franchisors over unfa...</td>\n",
       "      <td>(marketscreener.com) A U.S. trade regulator on...</td>\n",
       "      <td>negative</td>\n",
       "      <td>0</td>\n",
       "    </tr>\n",
       "    <tr>\n",
       "      <th>4</th>\n",
       "      <td>Rooftop solar's dark side</td>\n",
       "      <td>4.5 million households in the U.S. have solar ...</td>\n",
       "      <td>positive</td>\n",
       "      <td>2</td>\n",
       "    </tr>\n",
       "  </tbody>\n",
       "</table>\n",
       "</div>"
      ],
      "text/plain": [
       "                                               Title  \\\n",
       "0  Pine View High teacher wins Best in State awar...   \n",
       "1  Businesses Face Financial Strain Amid Liquidit...   \n",
       "2  Musk donates to super pac working to elect Tru...   \n",
       "3  US FTC issues warning to franchisors over unfa...   \n",
       "4                          Rooftop solar's dark side   \n",
       "\n",
       "                                         Description Sentiment  Sentiment_num  \n",
       "0  ST. GEORGE — Kaitlyn Larson, a first-year teac...  positive              2  \n",
       "1  Harare, Zimbabwe – Local businesses are grappl...   neutral              1  \n",
       "2  (marketscreener.com) Billionaire Elon Musk has...  positive              2  \n",
       "3  (marketscreener.com) A U.S. trade regulator on...  negative              0  \n",
       "4  4.5 million households in the U.S. have solar ...  positive              2  "
      ]
     },
     "execution_count": 57,
     "metadata": {},
     "output_type": "execute_result"
    }
   ],
   "source": [
    "# Change labels from strings to integers\n",
    "\n",
    "mapping = {\n",
    "    'positive': 2,\n",
    "    'negative': 0,\n",
    "    'neutral': 1,\n",
    "}\n",
    "\n",
    "data[\"Sentiment_num\"] = data[\"Sentiment\"].map(mapping)\n",
    "print(\"\\nDataFrame after mapping:\")\n",
    "data.head()\n"
   ]
  }
 ],
 "metadata": {
  "kernelspec": {
   "display_name": "base",
   "language": "python",
   "name": "python3"
  },
  "language_info": {
   "codemirror_mode": {
    "name": "ipython",
    "version": 3
   },
   "file_extension": ".py",
   "mimetype": "text/x-python",
   "name": "python",
   "nbconvert_exporter": "python",
   "pygments_lexer": "ipython3",
   "version": "3.11.4"
  }
 },
 "nbformat": 4,
 "nbformat_minor": 2
}
